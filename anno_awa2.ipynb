{
  "cells": [
    {
      "attachments": {},
      "cell_type": "markdown",
      "metadata": {
        "id": "2RyVoXfbxZlC"
      },
      "source": [
        "# A Demo For Building Attribute Hierarchy Based on [Animal with Attributes 2 Dataset](https://cvml.ist.ac.at/AwA2/) 😀\n",
        "\n"
      ]
    },
    {
      "attachments": {},
      "cell_type": "markdown",
      "metadata": {
        "id": "LvXCecRjyMow"
      },
      "source": [
        "This is a demo of hierarchy building pipline metioned in paper \"Hierarchical Visual Attribute Learning in the Wild\" based on AWA2 dataset. If you want to execute this demo, please prepare a `OPENAI_API_KEY` for using ChatGPT."
      ]
    },
    {
      "attachments": {},
      "cell_type": "markdown",
      "metadata": {
        "id": "PhS_3ldTy5bB"
      },
      "source": [
        "## Install and import package"
      ]
    },
    {
      "cell_type": "code",
      "execution_count": 1,
      "metadata": {
        "colab": {
          "base_uri": "https://localhost:8080/"
        },
        "id": "mZrRmDSDy2cB",
        "outputId": "c6dbc050-4d45-4bd0-951a-5ba2ae260a14"
      },
      "outputs": [
        {
          "name": "stdout",
          "output_type": "stream",
          "text": [
            "Requirement already satisfied: langchain in /usr/local/lib/python3.10/dist-packages (0.0.222)\n",
            "Requirement already satisfied: openai in /usr/local/lib/python3.10/dist-packages (0.27.8)\n",
            "Requirement already satisfied: PyYAML>=5.4.1 in /usr/local/lib/python3.10/dist-packages (from langchain) (6.0)\n",
            "Requirement already satisfied: SQLAlchemy<3,>=1.4 in /usr/local/lib/python3.10/dist-packages (from langchain) (2.0.16)\n",
            "Requirement already satisfied: aiohttp<4.0.0,>=3.8.3 in /usr/local/lib/python3.10/dist-packages (from langchain) (3.8.4)\n",
            "Requirement already satisfied: async-timeout<5.0.0,>=4.0.0 in /usr/local/lib/python3.10/dist-packages (from langchain) (4.0.2)\n",
            "Requirement already satisfied: dataclasses-json<0.6.0,>=0.5.7 in /usr/local/lib/python3.10/dist-packages (from langchain) (0.5.9)\n",
            "Requirement already satisfied: langchainplus-sdk>=0.0.17 in /usr/local/lib/python3.10/dist-packages (from langchain) (0.0.20)\n",
            "Requirement already satisfied: numexpr<3.0.0,>=2.8.4 in /usr/local/lib/python3.10/dist-packages (from langchain) (2.8.4)\n",
            "Requirement already satisfied: numpy<2,>=1 in /usr/local/lib/python3.10/dist-packages (from langchain) (1.22.4)\n",
            "Requirement already satisfied: openapi-schema-pydantic<2.0,>=1.2 in /usr/local/lib/python3.10/dist-packages (from langchain) (1.2.4)\n",
            "Requirement already satisfied: pydantic<2,>=1 in /usr/local/lib/python3.10/dist-packages (from langchain) (1.10.9)\n",
            "Requirement already satisfied: requests<3,>=2 in /usr/local/lib/python3.10/dist-packages (from langchain) (2.27.1)\n",
            "Requirement already satisfied: tenacity<9.0.0,>=8.1.0 in /usr/local/lib/python3.10/dist-packages (from langchain) (8.2.2)\n",
            "Requirement already satisfied: tqdm in /usr/local/lib/python3.10/dist-packages (from openai) (4.65.0)\n",
            "Requirement already satisfied: attrs>=17.3.0 in /usr/local/lib/python3.10/dist-packages (from aiohttp<4.0.0,>=3.8.3->langchain) (23.1.0)\n",
            "Requirement already satisfied: charset-normalizer<4.0,>=2.0 in /usr/local/lib/python3.10/dist-packages (from aiohttp<4.0.0,>=3.8.3->langchain) (2.0.12)\n",
            "Requirement already satisfied: multidict<7.0,>=4.5 in /usr/local/lib/python3.10/dist-packages (from aiohttp<4.0.0,>=3.8.3->langchain) (6.0.4)\n",
            "Requirement already satisfied: yarl<2.0,>=1.0 in /usr/local/lib/python3.10/dist-packages (from aiohttp<4.0.0,>=3.8.3->langchain) (1.9.2)\n",
            "Requirement already satisfied: frozenlist>=1.1.1 in /usr/local/lib/python3.10/dist-packages (from aiohttp<4.0.0,>=3.8.3->langchain) (1.3.3)\n",
            "Requirement already satisfied: aiosignal>=1.1.2 in /usr/local/lib/python3.10/dist-packages (from aiohttp<4.0.0,>=3.8.3->langchain) (1.3.1)\n",
            "Requirement already satisfied: marshmallow<4.0.0,>=3.3.0 in /usr/local/lib/python3.10/dist-packages (from dataclasses-json<0.6.0,>=0.5.7->langchain) (3.19.0)\n",
            "Requirement already satisfied: marshmallow-enum<2.0.0,>=1.5.1 in /usr/local/lib/python3.10/dist-packages (from dataclasses-json<0.6.0,>=0.5.7->langchain) (1.5.1)\n",
            "Requirement already satisfied: typing-inspect>=0.4.0 in /usr/local/lib/python3.10/dist-packages (from dataclasses-json<0.6.0,>=0.5.7->langchain) (0.9.0)\n",
            "Requirement already satisfied: typing-extensions>=4.2.0 in /usr/local/lib/python3.10/dist-packages (from pydantic<2,>=1->langchain) (4.6.3)\n",
            "Requirement already satisfied: urllib3<1.27,>=1.21.1 in /usr/local/lib/python3.10/dist-packages (from requests<3,>=2->langchain) (1.26.16)\n",
            "Requirement already satisfied: certifi>=2017.4.17 in /usr/local/lib/python3.10/dist-packages (from requests<3,>=2->langchain) (2023.5.7)\n",
            "Requirement already satisfied: idna<4,>=2.5 in /usr/local/lib/python3.10/dist-packages (from requests<3,>=2->langchain) (3.4)\n",
            "Requirement already satisfied: greenlet!=0.4.17 in /usr/local/lib/python3.10/dist-packages (from SQLAlchemy<3,>=1.4->langchain) (2.0.2)\n",
            "Requirement already satisfied: packaging>=17.0 in /usr/local/lib/python3.10/dist-packages (from marshmallow<4.0.0,>=3.3.0->dataclasses-json<0.6.0,>=0.5.7->langchain) (23.1)\n",
            "Requirement already satisfied: mypy-extensions>=0.3.0 in /usr/local/lib/python3.10/dist-packages (from typing-inspect>=0.4.0->dataclasses-json<0.6.0,>=0.5.7->langchain) (1.0.0)\n"
          ]
        }
      ],
      "source": [
        "!pip install langchain openai"
      ]
    },
    {
      "attachments": {},
      "cell_type": "markdown",
      "metadata": {
        "id": "LYl-7DVgRza6"
      },
      "source": [
        "Store the OPENAI_API_KEY into your environment"
      ]
    },
    {
      "cell_type": "code",
      "execution_count": 2,
      "metadata": {
        "id": "s14-kKVuy9hV"
      },
      "outputs": [],
      "source": [
        "import os\n",
        "import openai\n",
        "import json\n",
        "from pprint import pprint\n",
        "\n",
        "from langchain.chat_models import ChatOpenAI\n",
        "from langchain.prompts.few_shot import FewShotPromptTemplate\n",
        "from langchain.prompts.prompt import PromptTemplate\n",
        "from langchain.prompts.chat import (\n",
        "    ChatPromptTemplate,\n",
        "    SystemMessagePromptTemplate,\n",
        "    AIMessagePromptTemplate,\n",
        "    HumanMessagePromptTemplate,\n",
        ")\n",
        "\n",
        "os.environ[\"OPENAI_API_KEY\"] = ''"
      ]
    },
    {
      "attachments": {},
      "cell_type": "markdown",
      "metadata": {
        "id": "Q7hJ4qdlzYiy"
      },
      "source": [
        "## Initialize ChatGPT"
      ]
    },
    {
      "cell_type": "code",
      "execution_count": 3,
      "metadata": {
        "id": "atfSu_O5zcpu"
      },
      "outputs": [],
      "source": [
        "chat = ChatOpenAI(temperature=0)"
      ]
    },
    {
      "attachments": {},
      "cell_type": "markdown",
      "metadata": {
        "id": "OqLziH8ZwAzk"
      },
      "source": [
        "## Initialize attributes"
      ]
    },
    {
      "attachments": {},
      "cell_type": "markdown",
      "metadata": {
        "id": "2tgAGZlmzd_L"
      },
      "source": [
        "AWA2 attributes from file predicates.txt in https://cvml.ist.ac.at/AwA2/"
      ]
    },
    {
      "cell_type": "code",
      "execution_count": 4,
      "metadata": {
        "id": "ctPzvvHOudfB"
      },
      "outputs": [],
      "source": [
        "attributes = [\n",
        "    \"black\", \"small\", \"blue\", \"brown\", \"gray\", \"toughskin\", \"red\", \"yellow\",\n",
        "    \"patches\", \"spots\", \"stripes\", \"orange\",\n",
        "    \"furry\", \"hairless\",\n",
        "    \"big\",  \"white\",\n",
        "    \"bulbous\", \"lean\", \"flippers\", \"hands\", \"hooves\", \"pads\", \"paws\", \"longleg\", \"longneck\", \"tail\"\n",
        "    \"chewteeth\", \"meatteeth\", \"buckteeth\", \"strainteeth\", \"horns\", \"claws\", \"tusks\",\n",
        "    \"smelly\", \"flys\", \"hops\",\n",
        "    \"swims\", \"tunnels\", \"walks\",\n",
        "    \"fast\", \"slow\",\n",
        "    \"strong\", \"weak\", \"muscle\",\n",
        "    \"bipedal\", \"quadrapedal\",\n",
        "    \"active\", \"inactive\", \"nocturnal\", \"hibernate\", \"agility\",\n",
        "    \"fish\", \"meat\", \"plankton\", \"vegetation\", \"insects\",\n",
        "    \"forager\", \"grazer\", \"hunter\", \"scavenger\", \"skimmer\", \"stalker\",\n",
        "    \"newworld\", \"oldworld\",\n",
        "    \"arctic\", \"coastal\", \"desert\", \"bush\", \"plains\", \"forest\", \"fields\", \"jungle\", \"mountains\", \"ocean\", \"ground\", \"water\", \"tree\", \"cave\",\n",
        "    \"fierce\", \"timid\", \"smart\",\n",
        "    \"group\", \"solitary\", \"nestspot\",\n",
        "    \"domestic\"\n",
        "]"
      ]
    },
    {
      "attachments": {},
      "cell_type": "markdown",
      "metadata": {
        "id": "fpqHPx8AyKvC"
      },
      "source": [
        "## Generate attribute types"
      ]
    },
    {
      "attachments": {},
      "cell_type": "markdown",
      "metadata": {
        "id": "DhI62VPttBYZ"
      },
      "source": [
        "### Design examples for few-shot prompt\n",
        "examples are a list of example dicts. Each example contains example attributes and their corresponding attribute types. These are the examples used fot context learning to let LLM understand the task and the output format."
      ]
    },
    {
      "cell_type": "code",
      "execution_count": 5,
      "metadata": {
        "id": "vZIa5crV70-g"
      },
      "outputs": [],
      "source": [
        "examples = [\n",
        "    {\n",
        "        \"example_attrs\": \"black, spots, small, fast, hibernate, fish, forager\",\n",
        "        \"example_types\": {\n",
        "            \"black\": \"color\",\n",
        "            \"spots\": \"pattern\",\n",
        "            \"small\": \"size\",\n",
        "            \"fast\": \"speed\",\n",
        "            \"hibernate\": \"habit\",\n",
        "            \"fish\": \"diet\",\n",
        "            \"forager\": \"feeding behavior\"\n",
        "        }\n",
        "    }\n",
        "]"
      ]
    },
    {
      "attachments": {},
      "cell_type": "markdown",
      "metadata": {
        "id": "3MyauXwrs2eV"
      },
      "source": [
        "### Design few-shot prompt for generating attribute types\n",
        "Design a message prompt template containing ***a system message*** (task instruction), a example ***question-answer pair*** (few shot prompt) and the ***final true question***."
      ]
    },
    {
      "cell_type": "code",
      "execution_count": 6,
      "metadata": {
        "id": "V5YHAIjdyJ7r"
      },
      "outputs": [],
      "source": [
        "system_message_template = system_message_template = \"\"\"\n",
        "You are a helpful animal-relevant attribute type annotator that given you some attributes you need to give each of them one attribute type.\n",
        "The output format is a json string, key is the attribute, value is the attribute type.\"\"\"\n",
        "\n",
        "example_human_template = \"Attributes: {example_attrs}.\"\n",
        "example_ai_template = \"Answer: {example_types}.\"\n",
        "question_template = \"Attributes: {raw_attrs}.\"\n",
        "\n",
        "system_message_prompt = SystemMessagePromptTemplate.from_template(system_message_template)\n",
        "example_human = HumanMessagePromptTemplate.from_template(example_human_template)\n",
        "example_ai = AIMessagePromptTemplate.from_template(example_ai_template)\n",
        "human_question = HumanMessagePromptTemplate.from_template(question_template)\n",
        "\n",
        "chat_prompt = ChatPromptTemplate.from_messages(\n",
        "    [system_message_prompt, example_human, example_ai, human_question]\n",
        ")\n"
      ]
    },
    {
      "attachments": {},
      "cell_type": "markdown",
      "metadata": {
        "id": "2WpjDNZctYZd"
      },
      "source": [
        "### Turn few-shot prompt into message format\n",
        "Embed an example into disigned message prompt template forms a message prompt, which is the input of LLM."
      ]
    },
    {
      "cell_type": "code",
      "execution_count": 7,
      "metadata": {
        "colab": {
          "base_uri": "https://localhost:8080/"
        },
        "id": "LxBD8MFo7zL4",
        "outputId": "f083f041-144a-4ae6-de72-3a2495cd302d"
      },
      "outputs": [
        {
          "data": {
            "text/plain": [
              "[SystemMessage(content='\\nYou are a helpful animal-relevant attribute type annotator that given you some attributes you need to give each of them one attribute type.\\nThe output format is a json string, key is the attribute, value is the attribute type.', additional_kwargs={}),\n",
              " HumanMessage(content='Attributes: black, spots, small, fast, hibernate, fish, forager.', additional_kwargs={}, example=False),\n",
              " AIMessage(content=\"Answer: {'black': 'color', 'spots': 'pattern', 'small': 'size', 'fast': 'speed', 'hibernate': 'habit', 'fish': 'diet', 'forager': 'feeding behavior'}.\", additional_kwargs={}, example=False),\n",
              " HumanMessage(content='Attributes: black, small, blue, brown, gray, toughskin, red, yellow, patches, spots, stripes, orange, furry, hairless, big, white, bulbous, lean, flippers, hands, hooves, pads, paws, longleg, longneck, tailchewteeth, meatteeth, buckteeth, strainteeth, horns, claws, tusks, smelly, flys, hops, swims, tunnels, walks, fast, slow, strong, weak, muscle, bipedal, quadrapedal, active, inactive, nocturnal, hibernate, agility, fish, meat, plankton, vegetation, insects, forager, grazer, hunter, scavenger, skimmer, stalker, newworld, oldworld, arctic, coastal, desert, bush, plains, forest, fields, jungle, mountains, ocean, ground, water, tree, cave, fierce, timid, smart, group, solitary, nestspot, domestic.', additional_kwargs={}, example=False)]"
            ]
          },
          "execution_count": 7,
          "metadata": {},
          "output_type": "execute_result"
        }
      ],
      "source": [
        "example = examples[0]\n",
        "chat_prompt = chat_prompt.format_messages(\n",
        "    example_attrs=example['example_attrs'],\n",
        "    example_types=example['example_types'],\n",
        "    raw_attrs=\", \".join(attributes))\n",
        "chat_prompt"
      ]
    },
    {
      "attachments": {},
      "cell_type": "markdown",
      "metadata": {
        "id": "VZnKHiogt9E5"
      },
      "source": [
        "### Generate attribute types with ChatGPT"
      ]
    },
    {
      "cell_type": "code",
      "execution_count": 8,
      "metadata": {
        "colab": {
          "base_uri": "https://localhost:8080/",
          "height": 125
        },
        "id": "hRTIKTMs-tzW",
        "outputId": "79ed3ed6-8130-4c9f-e9fd-2a89324ce76b"
      },
      "outputs": [
        {
          "data": {
            "application/vnd.google.colaboratory.intrinsic+json": {
              "type": "string"
            },
            "text/plain": [
              "'Answer: \\n{\\n  \"black\": \"color\",\\n  \"small\": \"size\",\\n  \"blue\": \"color\",\\n  \"brown\": \"color\",\\n  \"gray\": \"color\",\\n  \"toughskin\": \"physical characteristic\",\\n  \"red\": \"color\",\\n  \"yellow\": \"color\",\\n  \"patches\": \"pattern\",\\n  \"spots\": \"pattern\",\\n  \"stripes\": \"pattern\",\\n  \"orange\": \"color\",\\n  \"furry\": \"physical characteristic\",\\n  \"hairless\": \"physical characteristic\",\\n  \"big\": \"size\",\\n  \"white\": \"color\",\\n  \"bulbous\": \"physical characteristic\",\\n  \"lean\": \"physical characteristic\",\\n  \"flippers\": \"physical characteristic\",\\n  \"hands\": \"physical characteristic\",\\n  \"hooves\": \"physical characteristic\",\\n  \"pads\": \"physical characteristic\",\\n  \"paws\": \"physical characteristic\",\\n  \"longleg\": \"physical characteristic\",\\n  \"longneck\": \"physical characteristic\",\\n  \"tailchewteeth\": \"physical characteristic\",\\n  \"meatteeth\": \"physical characteristic\",\\n  \"buckteeth\": \"physical characteristic\",\\n  \"strainteeth\": \"physical characteristic\",\\n  \"horns\": \"physical characteristic\",\\n  \"claws\": \"physical characteristic\",\\n  \"tusks\": \"physical characteristic\",\\n  \"smelly\": \"odor\",\\n  \"flys\": \"movement\",\\n  \"hops\": \"movement\",\\n  \"swims\": \"movement\",\\n  \"tunnels\": \"movement\",\\n  \"walks\": \"movement\",\\n  \"fast\": \"speed\",\\n  \"slow\": \"speed\",\\n  \"strong\": \"strength\",\\n  \"weak\": \"strength\",\\n  \"muscle\": \"physical characteristic\",\\n  \"bipedal\": \"movement\",\\n  \"quadrapedal\": \"movement\",\\n  \"active\": \"activity level\",\\n  \"inactive\": \"activity level\",\\n  \"nocturnal\": \"activity pattern\",\\n  \"hibernate\": \"habit\",\\n  \"agility\": \"physical characteristic\",\\n  \"fish\": \"diet\",\\n  \"meat\": \"diet\",\\n  \"plankton\": \"diet\",\\n  \"vegetation\": \"diet\",\\n  \"insects\": \"diet\",\\n  \"forager\": \"feeding behavior\",\\n  \"grazer\": \"feeding behavior\",\\n  \"hunter\": \"feeding behavior\",\\n  \"scavenger\": \"feeding behavior\",\\n  \"skimmer\": \"feeding behavior\",\\n  \"stalker\": \"feeding behavior\",\\n  \"newworld\": \"geographical region\",\\n  \"oldworld\": \"geographical region\",\\n  \"arctic\": \"habitat\",\\n  \"coastal\": \"habitat\",\\n  \"desert\": \"habitat\",\\n  \"bush\": \"habitat\",\\n  \"plains\": \"habitat\",\\n  \"forest\": \"habitat\",\\n  \"fields\": \"habitat\",\\n  \"jungle\": \"habitat\",\\n  \"mountains\": \"habitat\",\\n  \"ocean\": \"habitat\",\\n  \"ground\": \"habitat\",\\n  \"water\": \"habitat\",\\n  \"tree\": \"habitat\",\\n  \"cave\": \"habitat\",\\n  \"fierce\": \"behavior\",\\n  \"timid\": \"behavior\",\\n  \"smart\": \"intelligence\",\\n  \"group\": \"social behavior\",\\n  \"solitary\": \"social behavior\",\\n  \"nestspot\": \"behavior\",\\n  \"domestic\": \"behavior\"\\n}'"
            ]
          },
          "execution_count": 8,
          "metadata": {},
          "output_type": "execute_result"
        }
      ],
      "source": [
        "output = chat(chat_prompt).content\n",
        "output"
      ]
    },
    {
      "attachments": {},
      "cell_type": "markdown",
      "metadata": {
        "id": "4FvEuFlWTx-A"
      },
      "source": [
        "Change the output from a string to the dict format"
      ]
    },
    {
      "cell_type": "code",
      "execution_count": 9,
      "metadata": {
        "colab": {
          "base_uri": "https://localhost:8080/"
        },
        "id": "oxIfkHvbcbUL",
        "outputId": "30697203-1faf-4759-e9ba-3a60856c65e7"
      },
      "outputs": [
        {
          "name": "stdout",
          "output_type": "stream",
          "text": [
            "{'active': 'activity level',\n",
            " 'agility': 'physical characteristic',\n",
            " 'arctic': 'habitat',\n",
            " 'big': 'size',\n",
            " 'bipedal': 'movement',\n",
            " 'black': 'color',\n",
            " 'blue': 'color',\n",
            " 'brown': 'color',\n",
            " 'buckteeth': 'physical characteristic',\n",
            " 'bulbous': 'physical characteristic',\n",
            " 'bush': 'habitat',\n",
            " 'cave': 'habitat',\n",
            " 'claws': 'physical characteristic',\n",
            " 'coastal': 'habitat',\n",
            " 'desert': 'habitat',\n",
            " 'domestic': 'behavior',\n",
            " 'fast': 'speed',\n",
            " 'fields': 'habitat',\n",
            " 'fierce': 'behavior',\n",
            " 'fish': 'diet',\n",
            " 'flippers': 'physical characteristic',\n",
            " 'flys': 'movement',\n",
            " 'forager': 'feeding behavior',\n",
            " 'forest': 'habitat',\n",
            " 'furry': 'physical characteristic',\n",
            " 'gray': 'color',\n",
            " 'grazer': 'feeding behavior',\n",
            " 'ground': 'habitat',\n",
            " 'group': 'social behavior',\n",
            " 'hairless': 'physical characteristic',\n",
            " 'hands': 'physical characteristic',\n",
            " 'hibernate': 'habit',\n",
            " 'hooves': 'physical characteristic',\n",
            " 'hops': 'movement',\n",
            " 'horns': 'physical characteristic',\n",
            " 'hunter': 'feeding behavior',\n",
            " 'inactive': 'activity level',\n",
            " 'insects': 'diet',\n",
            " 'jungle': 'habitat',\n",
            " 'lean': 'physical characteristic',\n",
            " 'longleg': 'physical characteristic',\n",
            " 'longneck': 'physical characteristic',\n",
            " 'meat': 'diet',\n",
            " 'meatteeth': 'physical characteristic',\n",
            " 'mountains': 'habitat',\n",
            " 'muscle': 'physical characteristic',\n",
            " 'nestspot': 'behavior',\n",
            " 'newworld': 'geographical region',\n",
            " 'nocturnal': 'activity pattern',\n",
            " 'ocean': 'habitat',\n",
            " 'oldworld': 'geographical region',\n",
            " 'orange': 'color',\n",
            " 'pads': 'physical characteristic',\n",
            " 'patches': 'pattern',\n",
            " 'paws': 'physical characteristic',\n",
            " 'plains': 'habitat',\n",
            " 'plankton': 'diet',\n",
            " 'quadrapedal': 'movement',\n",
            " 'red': 'color',\n",
            " 'scavenger': 'feeding behavior',\n",
            " 'skimmer': 'feeding behavior',\n",
            " 'slow': 'speed',\n",
            " 'small': 'size',\n",
            " 'smart': 'intelligence',\n",
            " 'smelly': 'odor',\n",
            " 'solitary': 'social behavior',\n",
            " 'spots': 'pattern',\n",
            " 'stalker': 'feeding behavior',\n",
            " 'strainteeth': 'physical characteristic',\n",
            " 'stripes': 'pattern',\n",
            " 'strong': 'strength',\n",
            " 'swims': 'movement',\n",
            " 'tailchewteeth': 'physical characteristic',\n",
            " 'timid': 'behavior',\n",
            " 'toughskin': 'physical characteristic',\n",
            " 'tree': 'habitat',\n",
            " 'tunnels': 'movement',\n",
            " 'tusks': 'physical characteristic',\n",
            " 'vegetation': 'diet',\n",
            " 'walks': 'movement',\n",
            " 'water': 'habitat',\n",
            " 'weak': 'strength',\n",
            " 'white': 'color',\n",
            " 'yellow': 'color'}\n"
          ]
        }
      ],
      "source": [
        "prefix = \"Answer: \"\n",
        "if prefix in output:\n",
        "    processed_out = output.split(prefix)[1]\n",
        "    type_dict = json.loads(processed_out)\n",
        "    pprint(type_dict)\n",
        "else:\n",
        "    print(\"format error\")"
      ]
    },
    {
      "attachments": {},
      "cell_type": "markdown",
      "metadata": {
        "id": "0yhnW73Ahf0F"
      },
      "source": [
        "Initialize hierarchy"
      ]
    },
    {
      "cell_type": "code",
      "execution_count": 10,
      "metadata": {
        "colab": {
          "base_uri": "https://localhost:8080/"
        },
        "id": "Eu7RQnEtfxx9",
        "outputId": "7536a398-b91d-475b-ceac-064243f851e7"
      },
      "outputs": [
        {
          "data": {
            "text/plain": [
              "{'strength': [],\n",
              " 'speed': [],\n",
              " 'activity level': [],\n",
              " 'activity pattern': [],\n",
              " 'habitat': [],\n",
              " 'behavior': [],\n",
              " 'size': [],\n",
              " 'pattern': [],\n",
              " 'diet': [],\n",
              " 'odor': [],\n",
              " 'geographical region': [],\n",
              " 'physical characteristic': [],\n",
              " 'intelligence': [],\n",
              " 'feeding behavior': [],\n",
              " 'color': [],\n",
              " 'social behavior': [],\n",
              " 'habit': [],\n",
              " 'movement': []}"
            ]
          },
          "execution_count": 10,
          "metadata": {},
          "output_type": "execute_result"
        }
      ],
      "source": [
        "attribute_types = list(set(type_dict.values()))\n",
        "hierarchy = {at:[] for at in attribute_types}\n",
        "hierarchy"
      ]
    },
    {
      "cell_type": "code",
      "execution_count": 11,
      "metadata": {
        "colab": {
          "base_uri": "https://localhost:8080/"
        },
        "id": "X0ZoYKUOiEaP",
        "outputId": "cb15b87d-f80d-4f6a-e45b-63b1de7cc46b"
      },
      "outputs": [
        {
          "name": "stdout",
          "output_type": "stream",
          "text": [
            "{'activity level': ['active', 'inactive'],\n",
            " 'activity pattern': ['nocturnal'],\n",
            " 'behavior': ['fierce', 'timid', 'nestspot', 'domestic'],\n",
            " 'color': ['black',\n",
            "           'blue',\n",
            "           'brown',\n",
            "           'gray',\n",
            "           'red',\n",
            "           'yellow',\n",
            "           'orange',\n",
            "           'white'],\n",
            " 'diet': ['fish', 'meat', 'plankton', 'vegetation', 'insects'],\n",
            " 'feeding behavior': ['forager',\n",
            "                      'grazer',\n",
            "                      'hunter',\n",
            "                      'scavenger',\n",
            "                      'skimmer',\n",
            "                      'stalker'],\n",
            " 'geographical region': ['newworld', 'oldworld'],\n",
            " 'habit': ['hibernate'],\n",
            " 'habitat': ['arctic',\n",
            "             'coastal',\n",
            "             'desert',\n",
            "             'bush',\n",
            "             'plains',\n",
            "             'forest',\n",
            "             'fields',\n",
            "             'jungle',\n",
            "             'mountains',\n",
            "             'ocean',\n",
            "             'ground',\n",
            "             'water',\n",
            "             'tree',\n",
            "             'cave'],\n",
            " 'intelligence': ['smart'],\n",
            " 'movement': ['flys',\n",
            "              'hops',\n",
            "              'swims',\n",
            "              'tunnels',\n",
            "              'walks',\n",
            "              'bipedal',\n",
            "              'quadrapedal'],\n",
            " 'odor': ['smelly'],\n",
            " 'pattern': ['patches', 'spots', 'stripes'],\n",
            " 'physical characteristic': ['toughskin',\n",
            "                             'furry',\n",
            "                             'hairless',\n",
            "                             'bulbous',\n",
            "                             'lean',\n",
            "                             'flippers',\n",
            "                             'hands',\n",
            "                             'hooves',\n",
            "                             'pads',\n",
            "                             'paws',\n",
            "                             'longleg',\n",
            "                             'longneck',\n",
            "                             'tailchewteeth',\n",
            "                             'meatteeth',\n",
            "                             'buckteeth',\n",
            "                             'strainteeth',\n",
            "                             'horns',\n",
            "                             'claws',\n",
            "                             'tusks',\n",
            "                             'muscle',\n",
            "                             'agility'],\n",
            " 'size': ['small', 'big'],\n",
            " 'social behavior': ['group', 'solitary'],\n",
            " 'speed': ['fast', 'slow'],\n",
            " 'strength': ['strong', 'weak']}\n"
          ]
        }
      ],
      "source": [
        "for k, v in type_dict.items():\n",
        "    hierarchy[v].append(k)\n",
        "pprint(hierarchy)"
      ]
    },
    {
      "attachments": {},
      "cell_type": "markdown",
      "metadata": {
        "id": "EqCrXEvAvqSR"
      },
      "source": [
        "## Building hierarchy for an attribute type"
      ]
    },
    {
      "attachments": {},
      "cell_type": "markdown",
      "metadata": {
        "id": "uGnUl3LUlEAi"
      },
      "source": [
        "There can be more hierarchy relation in physical characteristic. For example, ***tailchewteeth***, ***meatteeth***, ***buckteeth***, ***strainteeth*** are all teeth types. Therefore, we can continue to optimize the hierarchical annotation."
      ]
    },
    {
      "attachments": {},
      "cell_type": "markdown",
      "metadata": {
        "id": "lPRkyZg2AQjG"
      },
      "source": [
        "### Initial annotation working space\n",
        "This script is executed on colab, if you run in local, please change work space to your own local dir. The work space will store two types of json files. One is the hierarchy of one attribute type generated by LLM, the other is the correction result by human expert."
      ]
    },
    {
      "cell_type": "code",
      "execution_count": 12,
      "metadata": {
        "id": "7LBaCGnfAQO8"
      },
      "outputs": [],
      "source": [
        "iter_no = 0\n",
        "step = 10\n",
        "work_space = \"cache/\"\n",
        "if not os.path.exists(work_space):\n",
        "    os.mkdir(work_space)\n",
        "llm_file_name_template = \"llm_{attribute_type}_iter_{iter_no}.json\"\n",
        "expert_correct_file_name_template = \"exp_{attribute_type}_iter_{iter_no}.json\""
      ]
    },
    {
      "cell_type": "code",
      "execution_count": 13,
      "metadata": {
        "colab": {
          "base_uri": "https://localhost:8080/"
        },
        "id": "EkmdJCtHu3V8",
        "outputId": "5080340c-c0d9-43b5-d6ee-52965d4f8835"
      },
      "outputs": [
        {
          "data": {
            "text/plain": [
              "['toughskin',\n",
              " 'furry',\n",
              " 'hairless',\n",
              " 'bulbous',\n",
              " 'lean',\n",
              " 'flippers',\n",
              " 'hands',\n",
              " 'hooves',\n",
              " 'pads',\n",
              " 'paws',\n",
              " 'longleg',\n",
              " 'longneck',\n",
              " 'tailchewteeth',\n",
              " 'meatteeth',\n",
              " 'buckteeth',\n",
              " 'strainteeth',\n",
              " 'horns',\n",
              " 'claws',\n",
              " 'tusks',\n",
              " 'muscle',\n",
              " 'agility']"
            ]
          },
          "execution_count": 13,
          "metadata": {},
          "output_type": "execute_result"
        }
      ],
      "source": [
        "attribute_type = 'physical characteristic'\n",
        "attributes = hierarchy['physical characteristic']\n",
        "attributes"
      ]
    },
    {
      "attachments": {},
      "cell_type": "markdown",
      "metadata": {
        "id": "u5GIJSpZ0Ig7"
      },
      "source": [
        "### Design examples for few-shot prompt\n",
        "Similar to former few shot example, we design example for adding new attributes into the hierarchy. The attribute hierarchy before adding is store in the field ***example_before_grow***, the attributes waited to be added stored in the field ***example_attrs***, the example attribute hierarchy after updating is stored in ***example_after_grow***"
      ]
    },
    {
      "cell_type": "code",
      "execution_count": 14,
      "metadata": {
        "colab": {
          "base_uri": "https://localhost:8080/"
        },
        "id": "-pVKm6g-0DXF",
        "outputId": "20748993-5b9a-41f0-e3e6-2c42914cdabd"
      },
      "outputs": [
        {
          "data": {
            "text/plain": [
              "['furry',\n",
              " 'bulbous',\n",
              " 'lean',\n",
              " 'flippers',\n",
              " 'hands',\n",
              " 'hooves',\n",
              " 'pads',\n",
              " 'paws',\n",
              " 'longleg',\n",
              " 'longneck',\n",
              " 'tailchewteeth',\n",
              " 'meatteeth',\n",
              " 'strainteeth',\n",
              " 'horns',\n",
              " 'claws',\n",
              " 'tusks',\n",
              " 'muscle']"
            ]
          },
          "execution_count": 14,
          "metadata": {},
          "output_type": "execute_result"
        }
      ],
      "source": [
        "example = {\n",
        "    \"example_before_grow\": {\n",
        "        \"teeth\": {\n",
        "            \"meatteeth\": {}\n",
        "        },\n",
        "    },\n",
        "    \"example_attrs\": \"hairless, toughskin, buckteeth, agility\",\n",
        "    \"example_after_grow\": {\n",
        "        \"teeth\": {\n",
        "            \"meatteeth\": {},\n",
        "            \"buckteeth\": {}\n",
        "        },\n",
        "        \"agility\": {},\n",
        "        \"skin\": {\n",
        "            \"toughskin\": {}\n",
        "        },\n",
        "        \"hair\": {\n",
        "            \"hairless\": {}\n",
        "        }\n",
        "    }\n",
        "}\n",
        "\n",
        "\"\"\"Remove attributes in above example\"\"\"\n",
        "for attr in example['example_attrs'].split(', '):\n",
        "    attributes.remove(attr)\n",
        "attributes"
      ]
    },
    {
      "attachments": {},
      "cell_type": "markdown",
      "metadata": {
        "id": "5leRF6oU1tjo"
      },
      "source": [
        "### Design prompt template for building hierarchy of one attribute type\n",
        "Similar to former message prompt, this message prompt also contains ***a system message*** (task instruction), a example ***question-answer pair*** (few shot example) and the ***final true question***."
      ]
    },
    {
      "cell_type": "code",
      "execution_count": 15,
      "metadata": {
        "id": "KsJkMtYM1yYF"
      },
      "outputs": [],
      "source": [
        "system_message_template = \"\"\"You are a helpful animal-relevant attribute tree annotator that given you an attribute tree you can add new attributes into the tree. Please return answer using json string.\n",
        "The attribute models the hierarchical relation among attributes.\"\"\"\n",
        "example_human_template = \"The attribute tree is {example_before_grow}. You should add these attributes into the tree: {example_attrs}.\"\n",
        "example_ai_template = \"Answer: {example_after_grow}\"\n",
        "question_template = \"The attribute tree is {example_after_grow}. You should add these attributes into the tree: {raw_attrs}.\""
      ]
    },
    {
      "cell_type": "code",
      "execution_count": 16,
      "metadata": {
        "id": "QBv82_Ch2QJk"
      },
      "outputs": [],
      "source": [
        "system_message_prompt = SystemMessagePromptTemplate.from_template(system_message_template)\n",
        "example_human_prompt = HumanMessagePromptTemplate.from_template(example_human_template)\n",
        "example_ai_prompt = AIMessagePromptTemplate.from_template(example_ai_template)\n",
        "human_question_prompt = HumanMessagePromptTemplate.from_template(question_template)\n",
        "\n",
        "chat_prompt_template = ChatPromptTemplate.from_messages(\n",
        "    [system_message_prompt, example_human_prompt, example_ai_prompt, human_question_prompt]\n",
        ")"
      ]
    },
    {
      "attachments": {},
      "cell_type": "markdown",
      "metadata": {
        "id": "b2E_eoK_Ht3Q"
      },
      "source": [
        "### Generate prompt for current iteration (**iteration start point**)\n",
        "Each iteration embedding a certain number of new attributes and example into the message prompt."
      ]
    },
    {
      "cell_type": "code",
      "execution_count": 21,
      "metadata": {
        "colab": {
          "base_uri": "https://localhost:8080/"
        },
        "id": "qA8b7SiE2TKm",
        "outputId": "0ee77033-571c-43fb-bac4-2b0e76fa0003"
      },
      "outputs": [
        {
          "name": "stdout",
          "output_type": "stream",
          "text": [
            "All attributes added finished!\n",
            "\n",
            "Iteration 1: \n",
            "attributes waited to be added: ['tailchewteeth', 'meatteeth', 'strainteeth', 'horns', 'claws', 'tusks', 'muscle']\n"
          ]
        },
        {
          "data": {
            "text/plain": [
              "[SystemMessage(content='You are a helpful animal-relevant attribute tree annotator that given you an attribute tree you can add new attributes into the tree. Please return answer using json string.\\nThe attribute models the hierarchical relation among attributes.', additional_kwargs={}),\n",
              " HumanMessage(content='The attribute tree is {\"teeth\": {\"meatteeth\": {}, \"buckteeth\": {}}, \"agility\": {}, \"skin\": {\"toughskin\": {}}, \"hair\": {\"hairless\": {}}}. You should add these attributes into the tree: [\"furry\", \"bulbous\", \"lean\", \"flippers\", \"hands\", \"hooves\", \"pads\", \"paws\", \"longleg\", \"longneck\"].', additional_kwargs={}, example=False),\n",
              " AIMessage(content='Answer: {\"teeth\": {\"meatteeth\": {}, \"buckteeth\": {}}, \"agility\": {}, \"skin\": {\"toughskin\": {}}, \"hair\": {\"hairless\": {}, \"furry\": {}}, \"body\": {\"bulbous\": {}, \"lean\": {}}, \"limbs\": {\"flippers\": {}, \"hands\": {}, \"hooves\": {}, \"feet\": {\"paws\": {\"pads\": {}}}, \"legs\": {\"longleg\": {}}}, \"neck\": {\"longneck\": {}}}', additional_kwargs={}, example=False),\n",
              " HumanMessage(content='The attribute tree is {\"teeth\": {\"meatteeth\": {}, \"buckteeth\": {}}, \"agility\": {}, \"skin\": {\"toughskin\": {}}, \"hair\": {\"hairless\": {}, \"furry\": {}}, \"body\": {\"bulbous\": {}, \"lean\": {}}, \"limbs\": {\"flippers\": {}, \"hands\": {}, \"hooves\": {}, \"feet\": {\"paws\": {\"pads\": {}}}, \"legs\": {\"longleg\": {}}}, \"neck\": {\"longneck\": {}}}. You should add these attributes into the tree: tailchewteeth, meatteeth, strainteeth, horns, claws, tusks, muscle.', additional_kwargs={}, example=False)]"
            ]
          },
          "execution_count": 21,
          "metadata": {},
          "output_type": "execute_result"
        }
      ],
      "source": [
        "raw_attrs = attributes[iter_no * step: (iter_no + 1) * step]\n",
        "if (iter_no + 1) * step > len(raw_attrs):\n",
        "    print(\"All attributes added finished!\")\n",
        "\n",
        "print(f\"\\nIteration {iter_no}: \\nattributes waited to be added: {raw_attrs}\")\n",
        "\n",
        "chat_prompt = chat_prompt_template.format_messages(\n",
        "    example_before_grow=json.dumps(example['example_before_grow']),\n",
        "    example_attrs=json.dumps(example['example_attrs']),\n",
        "    example_after_grow=json.dumps(example['example_after_grow']),\n",
        "    raw_attrs=\", \".join(raw_attrs))\n",
        "chat_prompt"
      ]
    },
    {
      "attachments": {},
      "cell_type": "markdown",
      "metadata": {
        "id": "aLZad5a8ACRv"
      },
      "source": [
        "### Update hierarchy"
      ]
    },
    {
      "cell_type": "code",
      "execution_count": 22,
      "metadata": {
        "colab": {
          "base_uri": "https://localhost:8080/",
          "height": 71
        },
        "id": "tsYmm5WR25Ik",
        "outputId": "6ad50aaf-6484-4324-b147-8242cb5f7e5d"
      },
      "outputs": [
        {
          "data": {
            "application/vnd.google.colaboratory.intrinsic+json": {
              "type": "string"
            },
            "text/plain": [
              "'Answer: {\"teeth\": {\"meatteeth\": {\"tailchewteeth\": {}, \"strainteeth\": {}}, \"buckteeth\": {}}, \"agility\": {}, \"skin\": {\"toughskin\": {}}, \"hair\": {\"hairless\": {}, \"furry\": {}}, \"body\": {\"bulbous\": {}, \"lean\": {}, \"muscle\": {}}, \"limbs\": {\"flippers\": {}, \"hands\": {\"claws\": {}}, \"hooves\": {}, \"feet\": {\"paws\": {\"pads\": {}}}, \"legs\": {\"longleg\": {}}}, \"neck\": {\"longneck\": {}}, \"horns\": {}, \"tusks\": {}}'"
            ]
          },
          "execution_count": 22,
          "metadata": {},
          "output_type": "execute_result"
        }
      ],
      "source": [
        "output = chat(chat_prompt).content\n",
        "output"
      ]
    },
    {
      "attachments": {},
      "cell_type": "markdown",
      "metadata": {
        "id": "Hh9c5K2XFB0Z"
      },
      "source": [
        "### Post-process the answer\n",
        "Change the output from a string to the dict format and store the generate result into two same json file. One for recording the answer of LLM in this iteration, another for human expert correction."
      ]
    },
    {
      "cell_type": "code",
      "execution_count": 23,
      "metadata": {
        "colab": {
          "base_uri": "https://localhost:8080/"
        },
        "id": "RfdG20mg3BzZ",
        "outputId": "2a6ee766-1f4b-44b6-f3bf-d96b1ee146f7"
      },
      "outputs": [
        {
          "name": "stdout",
          "output_type": "stream",
          "text": [
            "{'agility': {},\n",
            " 'body': {'bulbous': {}, 'lean': {}, 'muscle': {}},\n",
            " 'hair': {'furry': {}, 'hairless': {}},\n",
            " 'horns': {},\n",
            " 'limbs': {'feet': {'paws': {'pads': {}}},\n",
            "           'flippers': {},\n",
            "           'hands': {'claws': {}},\n",
            "           'hooves': {},\n",
            "           'legs': {'longleg': {}}},\n",
            " 'neck': {'longneck': {}},\n",
            " 'skin': {'toughskin': {}},\n",
            " 'teeth': {'buckteeth': {},\n",
            "           'meatteeth': {'strainteeth': {}, 'tailchewteeth': {}}},\n",
            " 'tusks': {}}\n"
          ]
        }
      ],
      "source": [
        "prefix = \"Answer: \"\n",
        "\n",
        "if prefix in output:\n",
        "    processed_out = output.split(prefix)[1]\n",
        "    type_hierarchy = json.loads(processed_out)\n",
        "    pprint(type_hierarchy)\n",
        "    llm_file_name = llm_file_name_template.format(attribute_type=attribute_type.replace(' ', '_'), iter_no=iter_no)\n",
        "    expert_correct_file_name = expert_correct_file_name_template.format(attribute_type=attribute_type.replace(' ', '_'), iter_no=iter_no)\n",
        "\n",
        "    with open(os.path.join(work_space, llm_file_name), 'w') as f:\n",
        "        json.dump(type_hierarchy, f, indent=4)\n",
        "\n",
        "    with open(os.path.join(work_space, expert_correct_file_name), 'w') as f:\n",
        "        json.dump(type_hierarchy, f, indent=4)\n",
        "\n",
        "else:\n",
        "    print(\"format error\")"
      ]
    },
    {
      "attachments": {},
      "cell_type": "markdown",
      "metadata": {
        "id": "0J1mNIOeHQ1a"
      },
      "source": [
        "### Human expert correction (***iteration end point***)"
      ]
    },
    {
      "attachments": {},
      "cell_type": "markdown",
      "metadata": {
        "id": "b0_1zCYb8anh"
      },
      "source": [
        "If there is some error make by ChatGPT, we will need human expert to correct it, please ***first*** correct the hierarchy store in the `/content/cache/exp_{attribute_type}_iter{iter_no}.json` file, e.g., /content/cache/exp_physical_characteristic_iter_0.json. Before executing following scripts, the expert should correct the LLM annotation first.\n",
        "\n",
        "Click it, it will open at sider bar and correct the annotation. After correction, the following script updates the correct hierarchy as a new example for next annotation iteration's few shot learning.\n",
        "\n"
      ]
    },
    {
      "cell_type": "code",
      "execution_count": 25,
      "metadata": {
        "colab": {
          "base_uri": "https://localhost:8080/"
        },
        "id": "69SI0AZo3hIF",
        "outputId": "3631e0ef-1158-4357-9596-97de06c52a00"
      },
      "outputs": [
        {
          "name": "stdout",
          "output_type": "stream",
          "text": [
            "Update example for iteration 2: \n",
            "{'example_after_grow': {'agility': {},\n",
            "                        'body': {'bulbous': {}, 'lean': {}, 'muscle': {}},\n",
            "                        'hair': {'furry': {}, 'hairless': {}},\n",
            "                        'horns': {},\n",
            "                        'limbs': {'feet': {'paws': {'claws': {}, 'pads': {}}},\n",
            "                                  'flippers': {},\n",
            "                                  'hands': {},\n",
            "                                  'hooves': {},\n",
            "                                  'legs': {'longleg': {}}},\n",
            "                        'neck': {'longneck': {}},\n",
            "                        'skin': {'toughskin': {}},\n",
            "                        'teeth': {'buckteeth': {},\n",
            "                                  'meatteeth': {},\n",
            "                                  'strainteeth': {},\n",
            "                                  'tailchewteeth': {},\n",
            "                                  'tusks': {}}},\n",
            " 'example_attrs': ['tailchewteeth',\n",
            "                   'meatteeth',\n",
            "                   'strainteeth',\n",
            "                   'horns',\n",
            "                   'claws',\n",
            "                   'tusks',\n",
            "                   'muscle'],\n",
            " 'example_before_grow': {'agility': {},\n",
            "                         'body': {'bulbous': {}, 'lean': {}},\n",
            "                         'hair': {'furry': {}, 'hairless': {}},\n",
            "                         'limbs': {'feet': {'paws': {'pads': {}}},\n",
            "                                   'flippers': {},\n",
            "                                   'hands': {},\n",
            "                                   'hooves': {},\n",
            "                                   'legs': {'longleg': {}}},\n",
            "                         'neck': {'longneck': {}},\n",
            "                         'skin': {'toughskin': {}},\n",
            "                         'teeth': {'buckteeth': {}, 'meatteeth': {}}}}\n"
          ]
        }
      ],
      "source": [
        "\"\"\"load the correct hierarchy\"\"\"\n",
        "with open(os.path.join(work_space, expert_correct_file_name), 'r') as f:\n",
        "    example_after_grow = json.load(f)\n",
        "\n",
        "example = dict(\n",
        "    example_before_grow = example[\"example_after_grow\"],\n",
        "    example_attrs = raw_attrs,\n",
        "    example_after_grow = example_after_grow\n",
        ")\n",
        "\n",
        "iter_no += 1\n",
        "print(f\"Update example for iteration {iter_no}: \")\n",
        "pprint(example)"
      ]
    },
    {
      "attachments": {},
      "cell_type": "markdown",
      "metadata": {
        "id": "dHN2KZq2xug_"
      },
      "source": [
        "**You should back to the iteration start point to keep adding new attributes!**"
      ]
    },
    {
      "attachments": {},
      "cell_type": "markdown",
      "metadata": {
        "id": "bRsx0vmbODwF"
      },
      "source": [
        "Finish Building Hierarchy"
      ]
    },
    {
      "cell_type": "code",
      "execution_count": 26,
      "metadata": {
        "colab": {
          "base_uri": "https://localhost:8080/"
        },
        "id": "1AE3LorVFoon",
        "outputId": "fb7a98c7-14f7-41bd-886e-7bf4d8eb81ba"
      },
      "outputs": [
        {
          "data": {
            "text/plain": [
              "{'strength': ['strong', 'weak'],\n",
              " 'speed': ['fast', 'slow'],\n",
              " 'activity level': ['active', 'inactive'],\n",
              " 'activity pattern': ['nocturnal'],\n",
              " 'habitat': ['arctic',\n",
              "  'coastal',\n",
              "  'desert',\n",
              "  'bush',\n",
              "  'plains',\n",
              "  'forest',\n",
              "  'fields',\n",
              "  'jungle',\n",
              "  'mountains',\n",
              "  'ocean',\n",
              "  'ground',\n",
              "  'water',\n",
              "  'tree',\n",
              "  'cave'],\n",
              " 'behavior': ['fierce', 'timid', 'nestspot', 'domestic'],\n",
              " 'size': ['small', 'big'],\n",
              " 'pattern': ['patches', 'spots', 'stripes'],\n",
              " 'diet': ['fish', 'meat', 'plankton', 'vegetation', 'insects'],\n",
              " 'odor': ['smelly'],\n",
              " 'geographical region': ['newworld', 'oldworld'],\n",
              " 'physical characteristic': {'teeth': {'meatteeth': {},\n",
              "   'buckteeth': {},\n",
              "   'tailchewteeth': {},\n",
              "   'strainteeth': {},\n",
              "   'tusks': {}},\n",
              "  'agility': {},\n",
              "  'skin': {'toughskin': {}},\n",
              "  'hair': {'hairless': {}, 'furry': {}},\n",
              "  'body': {'bulbous': {}, 'lean': {}, 'muscle': {}},\n",
              "  'limbs': {'flippers': {},\n",
              "   'hands': {},\n",
              "   'hooves': {},\n",
              "   'feet': {'paws': {'pads': {}, 'claws': {}}},\n",
              "   'legs': {'longleg': {}}},\n",
              "  'neck': {'longneck': {}},\n",
              "  'horns': {}},\n",
              " 'intelligence': ['smart'],\n",
              " 'feeding behavior': ['forager',\n",
              "  'grazer',\n",
              "  'hunter',\n",
              "  'scavenger',\n",
              "  'skimmer',\n",
              "  'stalker'],\n",
              " 'color': ['black',\n",
              "  'blue',\n",
              "  'brown',\n",
              "  'gray',\n",
              "  'red',\n",
              "  'yellow',\n",
              "  'orange',\n",
              "  'white'],\n",
              " 'social behavior': ['group', 'solitary'],\n",
              " 'habit': ['hibernate'],\n",
              " 'movement': ['flys',\n",
              "  'hops',\n",
              "  'swims',\n",
              "  'tunnels',\n",
              "  'walks',\n",
              "  'bipedal',\n",
              "  'quadrapedal']}"
            ]
          },
          "execution_count": 26,
          "metadata": {},
          "output_type": "execute_result"
        }
      ],
      "source": [
        "hierarchy[attribute_type] = example_after_grow\n",
        "hierarchy"
      ]
    },
    {
      "cell_type": "code",
      "execution_count": 27,
      "metadata": {
        "colab": {
          "base_uri": "https://localhost:8080/"
        },
        "id": "ZTWvenN7OcWw",
        "outputId": "0d9b3de9-4ad0-4bd2-db85-376124a2f3c1"
      },
      "outputs": [
        {
          "name": "stdout",
          "output_type": "stream",
          "text": [
            "{'activity level': {'active': {}, 'inactive': {}},\n",
            " 'activity pattern': {'nocturnal': {}},\n",
            " 'behavior': {'domestic': {}, 'fierce': {}, 'nestspot': {}, 'timid': {}},\n",
            " 'color': {'black': {},\n",
            "           'blue': {},\n",
            "           'brown': {},\n",
            "           'gray': {},\n",
            "           'orange': {},\n",
            "           'red': {},\n",
            "           'white': {},\n",
            "           'yellow': {}},\n",
            " 'diet': {'fish': {},\n",
            "          'insects': {},\n",
            "          'meat': {},\n",
            "          'plankton': {},\n",
            "          'vegetation': {}},\n",
            " 'feeding behavior': {'forager': {},\n",
            "                      'grazer': {},\n",
            "                      'hunter': {},\n",
            "                      'scavenger': {},\n",
            "                      'skimmer': {},\n",
            "                      'stalker': {}},\n",
            " 'geographical region': {'newworld': {}, 'oldworld': {}},\n",
            " 'habit': {'hibernate': {}},\n",
            " 'habitat': {'arctic': {},\n",
            "             'bush': {},\n",
            "             'cave': {},\n",
            "             'coastal': {},\n",
            "             'desert': {},\n",
            "             'fields': {},\n",
            "             'forest': {},\n",
            "             'ground': {},\n",
            "             'jungle': {},\n",
            "             'mountains': {},\n",
            "             'ocean': {},\n",
            "             'plains': {},\n",
            "             'tree': {},\n",
            "             'water': {}},\n",
            " 'intelligence': {'smart': {}},\n",
            " 'movement': {'bipedal': {},\n",
            "              'flys': {},\n",
            "              'hops': {},\n",
            "              'quadrapedal': {},\n",
            "              'swims': {},\n",
            "              'tunnels': {},\n",
            "              'walks': {}},\n",
            " 'odor': {'smelly': {}},\n",
            " 'pattern': {'patches': {}, 'spots': {}, 'stripes': {}},\n",
            " 'physical characteristic': {'agility': {},\n",
            "                             'body': {'bulbous': {}, 'lean': {}, 'muscle': {}},\n",
            "                             'hair': {'furry': {}, 'hairless': {}},\n",
            "                             'horns': {},\n",
            "                             'limbs': {'feet': {'paws': {'claws': {},\n",
            "                                                         'pads': {}}},\n",
            "                                       'flippers': {},\n",
            "                                       'hands': {},\n",
            "                                       'hooves': {},\n",
            "                                       'legs': {'longleg': {}}},\n",
            "                             'neck': {'longneck': {}},\n",
            "                             'skin': {'toughskin': {}},\n",
            "                             'teeth': {'buckteeth': {},\n",
            "                                       'meatteeth': {},\n",
            "                                       'strainteeth': {},\n",
            "                                       'tailchewteeth': {},\n",
            "                                       'tusks': {}}},\n",
            " 'size': {'big': {}, 'small': {}},\n",
            " 'social behavior': {'group': {}, 'solitary': {}},\n",
            " 'speed': {'fast': {}, 'slow': {}},\n",
            " 'strength': {'strong': {}, 'weak': {}}}\n"
          ]
        }
      ],
      "source": [
        "for k, v in hierarchy.items():\n",
        "    if isinstance(v, list):\n",
        "        hierarchy[k] = {attr:{} for attr in v}\n",
        "\n",
        "pprint(hierarchy)"
      ]
    },
    {
      "cell_type": "code",
      "execution_count": 28,
      "metadata": {
        "colab": {
          "base_uri": "https://localhost:8080/",
          "height": 35
        },
        "id": "x1sCxukHOzLA",
        "outputId": "881b61fd-1f81-4140-dc0e-33f2de44d832"
      },
      "outputs": [
        {
          "data": {
            "application/vnd.google.colaboratory.intrinsic+json": {
              "type": "string"
            },
            "text/plain": [
              "'All Finished!'"
            ]
          },
          "execution_count": 28,
          "metadata": {},
          "output_type": "execute_result"
        }
      ],
      "source": [
        "\"\"\"Save the final hierarchy: awa2_hierarchy.json\"\"\"\n",
        "with open(os.path.join(work_space, \"awa2_hierarchy.json\"), 'w') as f:\n",
        "        json.dump(hierarchy, f, indent=4)\n",
        "\"All Finished!\""
      ]
    },
    {
      "cell_type": "code",
      "execution_count": null,
      "metadata": {
        "id": "LlhodzOgPSlD"
      },
      "outputs": [],
      "source": []
    }
  ],
  "metadata": {
    "colab": {
      "provenance": []
    },
    "kernelspec": {
      "display_name": "Python 3",
      "name": "python3"
    },
    "language_info": {
      "name": "python"
    }
  },
  "nbformat": 4,
  "nbformat_minor": 0
}
